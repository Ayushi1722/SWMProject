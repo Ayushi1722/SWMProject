{
  "cells": [
    {
      "cell_type": "code",
      "execution_count": 3,
      "metadata": {
        "colab": {
          "base_uri": "https://localhost:8080/"
        },
        "id": "78ZPcEGW2hcN",
        "outputId": "96c807f6-2c72-4425-abf7-8d8c3f2e1e30"
      },
      "outputs": [
        {
          "name": "stdout",
          "output_type": "stream",
          "text": [
            "Requirement already satisfied: socialreaper in c:\\users\\sahil\\appdata\\local\\programs\\python\\python310\\lib\\site-packages (1.0.3)\n",
            "Requirement already satisfied: requests-oauthlib>=0.7.0 in c:\\users\\sahil\\appdata\\local\\programs\\python\\python310\\lib\\site-packages (from socialreaper) (1.3.1)\n",
            "Requirement already satisfied: oauthlib>=2.0.1 in c:\\users\\sahil\\appdata\\local\\programs\\python\\python310\\lib\\site-packages (from socialreaper) (3.2.0)\n",
            "Requirement already satisfied: requests>=2.11.1 in c:\\users\\sahil\\appdata\\local\\programs\\python\\python310\\lib\\site-packages (from socialreaper) (2.27.1)\n",
            "Requirement already satisfied: charset-normalizer~=2.0.0 in c:\\users\\sahil\\appdata\\local\\programs\\python\\python310\\lib\\site-packages (from requests>=2.11.1->socialreaper) (2.0.12)\n",
            "Requirement already satisfied: certifi>=2017.4.17 in c:\\users\\sahil\\appdata\\local\\programs\\python\\python310\\lib\\site-packages (from requests>=2.11.1->socialreaper) (2021.10.8)\n",
            "Requirement already satisfied: urllib3<1.27,>=1.21.1 in c:\\users\\sahil\\appdata\\local\\programs\\python\\python310\\lib\\site-packages (from requests>=2.11.1->socialreaper) (1.26.8)\n",
            "Requirement already satisfied: idna<4,>=2.5 in c:\\users\\sahil\\appdata\\local\\programs\\python\\python310\\lib\\site-packages (from requests>=2.11.1->socialreaper) (3.3)\n",
            "Note: you may need to restart the kernel to use updated packages.\n"
          ]
        },
        {
          "name": "stderr",
          "output_type": "stream",
          "text": [
            "\n",
            "[notice] A new release of pip available: 22.3.1 -> 23.1\n",
            "[notice] To update, run: python.exe -m pip install --upgrade pip\n"
          ]
        }
      ],
      "source": [
        "pip install socialreaper"
      ]
    },
    {
      "cell_type": "code",
      "execution_count": 4,
      "metadata": {
        "id": "nUbcfofaJDCr"
      },
      "outputs": [],
      "source": [
        "import csv\n",
        "import time\n",
        "from socialreaper import Twitter"
      ]
    },
    {
      "cell_type": "code",
      "execution_count": 5,
      "metadata": {},
      "outputs": [],
      "source": [
        "def tweet_text_refine(text):\n",
        "    ''' Function that refines the text and remove the newline character. This is neede as it can add line breaks in csv''' \n",
        "    text.replace('\\n\\n', '\\\\n').replace('\\n', '\\\\n')\n",
        "    return text"
      ]
    },
    {
      "cell_type": "code",
      "execution_count": 6,
      "metadata": {},
      "outputs": [],
      "source": [
        "twt = Twitter(api_key=\"your_twitter_api_here\", api_secret=\"your_twitter_api_secret_here\", access_token=\"your_twitter_access_token_here\", \n",
        "    access_token_secret=\"your_twitter_access_token__secret_here\")"
      ]
    },
    {
      "cell_type": "code",
      "execution_count": 7,
      "metadata": {},
      "outputs": [],
      "source": [
        "keywords = ['OpenAI','GPT','ChatGPT']"
      ]
    },
    {
      "cell_type": "code",
      "execution_count": 8,
      "metadata": {},
      "outputs": [],
      "source": [
        "rows = 0"
      ]
    },
    {
      "cell_type": "code",
      "execution_count": 9,
      "metadata": {},
      "outputs": [
        {
          "name": "stdout",
          "output_type": "stream",
          "text": [
            "Started scraping for OpenAI\n",
            "Scraping has completed for OpenAI !\n",
            "TOTAL NUMBER OF RECORDS  3000\n",
            "TIME TAKEN = 36.5389 seconds\n",
            "Started scraping for GPT\n",
            "Scraping has completed for GPT !\n",
            "TOTAL NUMBER OF RECORDS  6000\n",
            "TIME TAKEN = 33.4892 seconds\n",
            "Started scraping for ChatGPT\n",
            "Scraping has completed for ChatGPT !\n",
            "TOTAL NUMBER OF RECORDS  9000\n",
            "TIME TAKEN = 34.1220 seconds\n"
          ]
        }
      ],
      "source": [
        "for key in keywords:\n",
        "    print(f'Started scraping for {key}')\n",
        "    tic = time.perf_counter()\n",
        "    tweets = twt.search(key,count=3000)\n",
        "    with open('twitter_data.csv', mode='w', newline='',encoding=\"utf-8\") as file:\n",
        "        writer = csv.writer(file)\n",
        "        cols = ['Keyword','ID','Created_At','Text','Source','UserID','Username','User_ScreenName','Location','Retweet_Count','Like_Count']\n",
        "        writer.writerow(cols)\n",
        "        for tweet in tweets:\n",
        "            rows += 1\n",
        "            user = tweet['user']\n",
        "            writer.writerow([key,tweet['id'],tweet['created_at'],tweet_text_refine(tweet['full_text']),'',user['id'],user['name'],user['screen_name'],user['location'],tweet['retweet_count'],tweet['favorite_count']])\n",
        "    toc = time.perf_counter()\n",
        "    print(f'Scraping has completed for {key} !')\n",
        "    print('TOTAL NUMBER OF RECORDS ', str(rows))\n",
        "    print(f'TIME TAKEN = {toc - tic:0.4f} seconds')\n",
        "    time.sleep(60)"
      ]
    }
  ],
  "metadata": {
    "colab": {
      "provenance": []
    },
    "kernelspec": {
      "display_name": "Python 3",
      "name": "python3"
    },
    "language_info": {
      "codemirror_mode": {
        "name": "ipython",
        "version": 3
      },
      "file_extension": ".py",
      "mimetype": "text/x-python",
      "name": "python",
      "nbconvert_exporter": "python",
      "pygments_lexer": "ipython3",
      "version": "3.10.1"
    }
  },
  "nbformat": 4,
  "nbformat_minor": 0
}
