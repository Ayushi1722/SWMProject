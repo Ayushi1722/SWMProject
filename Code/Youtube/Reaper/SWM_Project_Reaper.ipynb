{
  "cells": [
    {
      "cell_type": "code",
      "execution_count": null,
      "metadata": {
        "id": "78ZPcEGW2hcN"
      },
      "outputs": [],
      "source": [
        "pip install socialreaper"
      ]
    },
    {
      "cell_type": "code",
      "execution_count": null,
      "metadata": {
        "id": "nUbcfofaJDCr"
      },
      "outputs": [],
      "source": [
        "import csv\n",
        "import time\n",
        "from socialreaper import YouTube"
      ]
    },
    {
      "cell_type": "code",
      "execution_count": null,
      "metadata": {
        "id": "8uG6zCVK2Zbw"
      },
      "outputs": [],
      "source": [
        "yt = YouTube(\"APIKEY\")\n",
        "videos = yt.search('Data Science')\n",
        "start_time = time.time()\n",
        "\n",
        "with open('youtube_data.csv', mode='w', newline='') as file:\n",
        "    writer = csv.writer(file)\n",
        "\n",
        "    writer.writerow(['videoTitle', 'videoId', 'url', 'channelTitle', 'channelLink', 'publishedAt', 'description'])\n",
        "\n",
        "    for video in videos:\n",
        "        title = video['snippet']['title']\n",
        "        video_id = video['id']['videoId']\n",
        "        url = f'https://www.youtube.com/watch?v={video_id}'\n",
        "        channel_title = video['snippet']['channelTitle']\n",
        "        channel_link = f\"https://www.youtube.com/channel/{video['snippet']['channelId']}\"\n",
        "        published_at = video['snippet']['publishedAt']\n",
        "        description = video['snippet']['description']\n",
        "\n",
        "        writer.writerow([title, video_id, url, channel_title, channel_link, published_at, description])\n",
        "end_time = time.time()\n",
        "total_time = end_time - start_time\n",
        "print(f\"Total time taken: {total_time:.2f} seconds\")"
      ]
    },
    {
      "cell_type": "code",
      "execution_count": null,
      "metadata": {
        "id": "B0iMblBy27O5"
      },
      "outputs": [],
      "source": []
    }
  ],
  "metadata": {
    "colab": {
      "provenance": []
    },
    "kernelspec": {
      "display_name": "Python 3",
      "name": "python3"
    },
    "language_info": {
      "name": "python"
    }
  },
  "nbformat": 4,
  "nbformat_minor": 0
}
